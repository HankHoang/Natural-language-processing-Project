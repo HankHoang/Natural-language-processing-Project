{
  "cells": [
    {
      "cell_type": "markdown",
      "id": "e9453e30",
      "metadata": {
        "id": "e9453e30"
      },
      "source": [
        "# Binary Document Classification with Feed-forward Neural Network model\n",
        "\n",
        "**This project aims to classify texts from the NARRATIVE field into two classes (Major or Minor).**\n",
        "\n",
        "It is a classification algorithm which consists of a number of neurons organized in layers. Every unit in a layer is connected with all the units in the previous layer. These connections are not all equal: each connection may have a different strength or weight.\n",
        "Data enters at the inputs and passes through the network, layer by layer, until it arrives at the outputs. There is no feedback between layers and hence they are called feedforward neural networks.\n",
        "In this task, using the narrative column of mining dataset to determine the level(Minor or Major) of an injury.\n",
        "\n",
        "The pipeline below consists of classes that converts the text input(in our case the NARRATIVE column) to vectorized minibatches."
      ]
    },
    {
      "cell_type": "markdown",
      "id": "177d450e",
      "metadata": {
        "id": "177d450e"
      },
      "source": [
        "#### Importing Libraries"
      ]
    },
    {
      "cell_type": "code",
      "execution_count": null,
      "id": "1584bb90",
      "metadata": {
        "colab": {
          "base_uri": "https://localhost:8080/"
        },
        "id": "1584bb90",
        "outputId": "55c15b02-7385-4cec-f1f6-74546f7e6ff4"
      },
      "outputs": [
        {
          "output_type": "stream",
          "name": "stderr",
          "text": [
            "[nltk_data] Downloading package wordnet to /root/nltk_data...\n"
          ]
        }
      ],
      "source": [
        "import collections\n",
        "from collections import Counter\n",
        "import string\n",
        "import re\n",
        "import nltk\n",
        "nltk.download('wordnet')\n",
        "import os\n",
        "import json\n",
        "from tqdm import tqdm "
      ]
    },
    {
      "cell_type": "code",
      "execution_count": null,
      "id": "ec592dcf",
      "metadata": {
        "id": "ec592dcf"
      },
      "outputs": [],
      "source": [
        "from torch.utils.data import Dataset\n",
        "class InjuryDataset(Dataset):\n",
        "    def __init__(self, injury_df, vectorizer):\n",
        "        \"\"\"\n",
        "        Args:\n",
        "        injury_df (pandas.DataFrame): the dataset\n",
        "        vectorizer (InjuryVectorizer): vectorizer instantiated from dataset\n",
        "        \"\"\"\n",
        "        self.injury_df = injury_df\n",
        "        self._vectorizer = vectorizer\n",
        "        self.train_df = self.injury_df[self.injury_df.split=='train']\n",
        "        self.train_size = len(self.train_df)\n",
        "        self.val_df = self.injury_df[self.injury_df.split=='val']\n",
        "        self.validation_size = len(self.val_df)\n",
        "        self.test_df = self.injury_df[self.injury_df.split=='test']\n",
        "        self.test_size = len(self.test_df)\n",
        "        self._lookup_dict = {'train': (self.train_df, self.train_size),\n",
        "                            'val': (self.val_df, self.validation_size),\n",
        "                            'test': (self.test_df, self.test_size)}\n",
        "        self.set_split('train')\n",
        "        \n",
        "    @classmethod\n",
        "    def load_dataset_and_make_vectorizer(cls, binary_injury_data_csv):\n",
        "        \"\"\"Load dataset and make a new vectorizer from scratch\n",
        "        Args:\n",
        "            binary_injury_data_csv (str): location of the dataset\n",
        "        Returns:\n",
        "            an instance of InjuryDataset\n",
        "        \"\"\"\n",
        "        injury_df = pd.read_csv(binary_injury_data_csv)\n",
        "        return cls(injury_df, InjuryVectorizer.from_dataframe(injury_df))\n",
        "    def get_vectorizer(self):\n",
        "        \"\"\" returns the vectorizer \"\"\"\n",
        "        return self._vectorizer\n",
        "    def set_split(self, split=\"train\"):\n",
        "        \"\"\" selects the splits in the dataset using a column in the dataframe\n",
        "        Args:\n",
        "        split (str): one of \"train\", \"val\", or \"test\"\n",
        "        \"\"\"\n",
        "        self._target_split = split\n",
        "        self._target_df, self._target_size = self._lookup_dict[split]\n",
        "    def __len__(self):\n",
        "        return self._target_size\n",
        "    def __getitem__(self, index):\n",
        "        \"\"\"the primary entry point method for PyTorch datasets\n",
        "        Args:\n",
        "        index (int): the index to the data point\n",
        "        Returns:\n",
        "        a dict of the data point's features (x_data) and label (y_target)\n",
        "        \"\"\"\n",
        "        row = self._target_df.iloc[index]\n",
        "        injury_vector = \\\n",
        "        self._vectorizer.vectorize(row.NARRATIVE)\n",
        "        injury_level_index = \\\n",
        "        self._vectorizer.injury_level_vocab.lookup_token(row.injury_level)\n",
        "        return {'x_data': injury_vector,\n",
        "                'y_target': injury_level_index}\n",
        "    def get_num_batches(self, batch_size):\n",
        "        \"\"\"Given a batch size, return the number of batches in the dataset\n",
        "        Args:\n",
        "        batch_size (int)\n",
        "        Returns:\n",
        "        number of batches in the dataset\n",
        "        \"\"\"\n",
        "        return len(self) // batch_size"
      ]
    },
    {
      "cell_type": "code",
      "execution_count": null,
      "id": "daae49ca",
      "metadata": {
        "id": "daae49ca"
      },
      "outputs": [],
      "source": [
        "class Vocabulary(object):\n",
        "    \"\"\"Class to process text and extract Vocabulary for mapping\"\"\"\n",
        "    def __init__(self, token_to_idx=None, add_unk=True, unk_token=\"<UNK>\"):\n",
        "        \"\"\"\n",
        "        Args:\n",
        "            token_to_idx (dict): a pre-existingmap of tokens to indices\n",
        "            add_unk (bool): a flag that indicates whether to add the UNK token\n",
        "            unk_token (str): the UNK token to add into the Vocabulary\n",
        "        \"\"\"\n",
        "        if token_to_idx is None:\n",
        "            token_to_idx = {}\n",
        "        self._token_to_idx = token_to_idx\n",
        "        self._idx_to_token = {idx: token \n",
        "                                for token, idx in self._token_to_idx.items()}\n",
        "        self._add_unk = add_unk\n",
        "        self._unk_token = unk_token\n",
        "        self.unk_index = 1\n",
        "        if add_unk:\n",
        "            self.unk_index = self.add_token(unk_token)\n",
        "    def to_serializable(self):\n",
        "        \"\"\" returns a dictionary that can be serialized \"\"\"\n",
        "        return {'token_to_idx': self._token_to_idx,\n",
        "                'add_unk': self._add_unk,\n",
        "                'unk_token': self._unk_token}\n",
        "    @classmethod\n",
        "    def from_serializable(cls, contents):\n",
        "        \"\"\" instantiates the Vocabulary from a serialized dictionary \"\"\"\n",
        "        return cls(**contents)\n",
        "    def add_token(self, token):\n",
        "        \"\"\"Update mapping dicts based on the token.\n",
        "        Args:\n",
        "            token (str): the item to add into the Vocabulary\n",
        "        Returns:\n",
        "            index (int): the integer corresponding to the token\n",
        "        \"\"\"\n",
        "        if token in self._token_to_idx:\n",
        "            index = self._token_to_idx[token]\n",
        "        else:\n",
        "            index = len(self._token_to_idx)\n",
        "            self._token_to_idx[token] = index\n",
        "            self._idx_to_token[index] = token\n",
        "        return index\n",
        "    def lookup_token(self, token):\n",
        "        \"\"\"Retrieve the index associated with the token\n",
        "        or the UNK index if token isn't present.\n",
        "        Args:\n",
        "            token (str): the token to look up\n",
        "        Returns:\n",
        "            index (int): the index corresponding to the token\n",
        "        Notes:\n",
        "            `unk_index` needs to be >=0 (having been added into the Vocabulary)\n",
        "            for the UNK functionality\n",
        "        \"\"\"\n",
        "        if self._add_unk:\n",
        "            return self._token_to_idx.get(token, self.unk_index)\n",
        "        else:\n",
        "            return self._token_to_idx[token]\n",
        "    def lookup_index(self, index):\n",
        "        \"\"\"Return the token associated with the index\n",
        "        Args:\n",
        "            index (int): the index to look up\n",
        "        Returns:\n",
        "            token (str): the token corresponding to the index\n",
        "        Raises:\n",
        "        KeyError: if the index is not in the Vocabulary\n",
        "        \"\"\"\n",
        "        if index not in self._idx_to_token:\n",
        "            raise KeyError(\"the index (%d) is not in the Vocabulary\" % index)\n",
        "        return self._idx_to_token[index]\n",
        "    def __str__(self):\n",
        "        return \"<Vocabulary(size=%d)>\" % len(self)\n",
        "    def __len__(self):\n",
        "        return len(self._token_to_idx)"
      ]
    },
    {
      "cell_type": "markdown",
      "id": "3f0a163e",
      "metadata": {
        "id": "3f0a163e"
      },
      "source": [
        "### Vectorizer\n",
        "\n",
        "The text dataset is converted to a vectorized minibatch by iterating through the tokens of an input data point and converting each token to its integer form. "
      ]
    },
    {
      "cell_type": "code",
      "execution_count": null,
      "id": "f5937ba6",
      "metadata": {
        "id": "f5937ba6"
      },
      "outputs": [],
      "source": [
        "class InjuryVectorizer(object):\n",
        "    \"\"\" The Vectorizer which coordinates the Vocabularies and puts them to use\"\"\"\n",
        "    def __init__(self, narrative_vocab, injury_level_vocab):\n",
        "        \"\"\"\n",
        "        Args:\n",
        "            narrative_vocab (Vocabulary): maps words to integers\n",
        "            injury_level_vocab (Vocabulary): maps class labels to integers\n",
        "        \"\"\"\n",
        "        self.narrative_vocab = narrative_vocab\n",
        "        self.injury_level_vocab = injury_level_vocab\n",
        "    def vectorize(self, narrative):\n",
        "        \"\"\"Create a collapsed one hot vector for the narrative\n",
        "        Args:\n",
        "            narrative (str): the narrative\n",
        "        Returns:\n",
        "            one_hot (np.ndarray): the collapsed onehot encoding\n",
        "        \"\"\"\n",
        "        one_hot = np.zeros(len(self.narrative_vocab), dtype=np.float32)\n",
        "        for token in narrative.split(\" \"):\n",
        "            if token not in string.punctuation:\n",
        "                one_hot[self.narrative_vocab.lookup_token(token)] = 1\n",
        "        return one_hot\n",
        "    @classmethod\n",
        "    def from_dataframe(cls, injury_df, cutoff=25):\n",
        "        \"\"\"Instantiate the vectorizer from the dataset dataframe\n",
        "        Args:\n",
        "            injury_df (pandas.DataFrame): the injury dataset\n",
        "            cutoff (int): the parameter for frequency based filtering\n",
        "        Returns:\n",
        "            an instance of the InjuryVectorizer\n",
        "        \"\"\"\n",
        "        narrative_vocab = Vocabulary(add_unk=True)\n",
        "        injury_level_vocab = Vocabulary(add_unk=False)\n",
        "        # Add ratings\n",
        "        for injury_level in sorted(set(injury_df.injury_level)):\n",
        "            injury_level_vocab.add_token(injury_level)\n",
        "        # Add top words if count > provided count\n",
        "        word_counts = Counter()\n",
        "        for injury in injury_df.NARRATIVE:\n",
        "            for word in injury.split(\" \"):\n",
        "                if word not in string.punctuation:\n",
        "                    word_counts[word] += 1\n",
        "        for word, count in word_counts.items():\n",
        "            if count > cutoff:\n",
        "                narrative_vocab.add_token(word)\n",
        "        return cls(narrative_vocab, injury_level_vocab)\n",
        "    @classmethod\n",
        "    def from_serializable(cls, contents):\n",
        "        \"\"\"Intantiate a InjuryVectorizer from a serializable dictionary\n",
        "        Args:\n",
        "            contents (dict): the serializable dictionary\n",
        "        Returns:\n",
        "            an instance of the InjuryVectorizer class\n",
        "        \"\"\"\n",
        "        narrative_vocab = Vocabulary.from_serializable(contents['narrative_vocab'])\n",
        "        injury_level_vocab = Vocabulary.from_serializable(contents['injury_level_vocab'])\n",
        "        return cls(narrative_vocab=narrative_vocab, injury_level_vocab=injury_level_vocab)\n",
        "    def to_serializable(self):\n",
        "        \"\"\"Create the serializable dictionary for caching\n",
        "        Returns:\n",
        "            contents (dict): the serializable dictionary\n",
        "        \"\"\"\n",
        "        return {'narrative_vocab': self.narrative_vocab.to_serializable(),\n",
        "                'injury_level_vocab': self.injury_level_vocab.to_serializable()}"
      ]
    },
    {
      "cell_type": "markdown",
      "id": "e44dc50a",
      "metadata": {
        "id": "e44dc50a"
      },
      "source": [
        "###### DataLoader - Grouping the vectorized data points"
      ]
    },
    {
      "cell_type": "code",
      "execution_count": null,
      "id": "5ce026bd",
      "metadata": {
        "id": "5ce026bd"
      },
      "outputs": [],
      "source": [
        "from torch.utils.data import DataLoader\n",
        "def generate_batches(dataset, batch_size, shuffle=True, drop_last=True, device=\"cpu\"):\n",
        "    \"\"\"\n",
        "    A generator function which wraps the PyTorch DataLoader. It will\n",
        "    ensure each tensor is on the write device location.\n",
        "    \"\"\"\n",
        "    dataloader = DataLoader(dataset=dataset, batch_size=batch_size, \n",
        "                            shuffle=shuffle, drop_last=drop_last)\n",
        "    for data_dict in dataloader:\n",
        "        out_data_dict = {}\n",
        "        for name, tensor in data_dict.items():\n",
        "            out_data_dict[name] = data_dict[name].to(device)\n",
        "        yield out_data_dict"
      ]
    },
    {
      "cell_type": "markdown",
      "id": "31070a27",
      "metadata": {
        "id": "31070a27"
      },
      "source": [
        " Feed Forward Neural Network"
      ]
    },
    {
      "cell_type": "code",
      "execution_count": null,
      "id": "f35cf2d7",
      "metadata": {
        "id": "f35cf2d7"
      },
      "outputs": [],
      "source": [
        "import torch.nn as nn\n",
        "import torch.nn.functional as F\n",
        "class InjuryClassifier(nn.Module):\n",
        "    \"\"\" a simple perceptron-based classifier \"\"\"\n",
        "    def __init__(self, num_features):\n",
        "        \"\"\"\n",
        "        Args:\n",
        "            num_features (int): the size of the input feature vector\n",
        "        \"\"\"\n",
        "        super(InjuryClassifier, self).__init__()\n",
        "        self.fc1 = nn.Linear(in_features=num_features, out_features=1)\n",
        "    \n",
        "    def forward(self, x_in, apply_sigmoid=False):\n",
        "        \"\"\"The forward pass of the classifier\n",
        "        Args:\n",
        "            x_in (torch.Tensor): an input data tensor \n",
        "                    x_in.shape should be (batch, num_features)\n",
        "            apply_sigmoid (bool): a flag for the sigmoid activation\n",
        "                    should be false if used with the cross-entropy losses\n",
        "        Returns:\n",
        "            the resulting tensor. tensor.shape should be (batch,).\n",
        "        \"\"\"\n",
        "        y_out = self.fc1(x_in).squeeze()\n",
        "        \n",
        "        if apply_sigmoid:\n",
        "            y_out = torch.sigmoid(y_out)\n",
        "        return y_out"
      ]
    },
    {
      "cell_type": "code",
      "execution_count": null,
      "id": "c8a7c0d4",
      "metadata": {
        "id": "c8a7c0d4"
      },
      "outputs": [],
      "source": [
        "from argparse import Namespace\n",
        "args = Namespace(\n",
        "    # Data and path information\n",
        "    frequency_cutoff=25,\n",
        "    model_state_file='model.pth',\n",
        "    injuries_csv='binary_injury_data.csv',\n",
        "    save_dir=\"model_storage/binary_classification_FNN\",\n",
        "    vectorizer_file='vectorizer.json',\n",
        "    # No model hyperparameters\n",
        "    # Training hyperparameters\n",
        "    batch_size=128,\n",
        "    early_stopping_criteria=5,\n",
        "    learning_rate=0.001,\n",
        "    num_epochs=100,\n",
        "    seed=1337,\n",
        "    # Runtime options\n",
        "    cuda=True,\n",
        "    device='cuda',\n",
        ")"
      ]
    },
    {
      "cell_type": "code",
      "execution_count": null,
      "id": "3ca202f5",
      "metadata": {
        "id": "3ca202f5"
      },
      "outputs": [],
      "source": [
        "import torch\n",
        "import torch.optim as optim\n",
        "import pandas as pd\n",
        "\n",
        "def make_train_state(args):\n",
        "    return {'epoch_index': 0,\n",
        "            'train_loss': [],\n",
        "            'train_acc': [],\n",
        "            'val_loss': [],\n",
        "            'val_acc': [],\n",
        "            'test_loss': 1,\n",
        "            'test_acc': 1}\n",
        "\n",
        "train_state = make_train_state(args)\n",
        "if not torch.cuda.is_available():\n",
        "    args.cuda = False\n",
        "args.device = torch.device(\"cuda\" if args.cuda else \"cpu\")\n",
        "\n",
        "# dataset and vectorizer\n",
        "dataset = InjuryDataset.load_dataset_and_make_vectorizer(args.injuries_csv)\n",
        "vectorizer = dataset.get_vectorizer()\n",
        "# model\n",
        "classifier = InjuryClassifier(num_features=len(vectorizer.narrative_vocab))\n",
        "classifier = classifier.to(args.device)\n",
        "# loss and optimizer\n",
        "loss_func = nn.BCEWithLogitsLoss()\n",
        "optimizer = optim.Adam(classifier.parameters(), lr=args.learning_rate)"
      ]
    },
    {
      "cell_type": "code",
      "execution_count": null,
      "id": "4bdc9c0b",
      "metadata": {
        "id": "4bdc9c0b"
      },
      "outputs": [],
      "source": [
        "def compute_accuracy(y_pred, y_target):\n",
        "    y_target = y_target.cpu()\n",
        "    y_pred_indices = (torch.sigmoid(y_pred)>0.5).cpu().long()#.max(dim=1)[1]\n",
        "    n_correct = torch.eq(y_pred_indices, y_target).sum().item()\n",
        "    return n_correct / len(y_pred_indices) * 100"
      ]
    },
    {
      "cell_type": "code",
      "execution_count": null,
      "id": "841196ea",
      "metadata": {
        "id": "841196ea"
      },
      "outputs": [],
      "source": [
        "import numpy as np\n",
        "for epoch_index in range(args.num_epochs):\n",
        "    train_state['epoch_index'] = epoch_index\n",
        "    # Iterate over training dataset\n",
        "    # setup: batch generator, set loss and acc to 0, set train mode on\n",
        "    dataset.set_split('train')\n",
        "    batch_generator = generate_batches(dataset, batch_size=args.batch_size, device=args.device)\n",
        "    running_loss = 0.0\n",
        "    running_acc = 0.0\n",
        "    classifier.train()\n",
        "    for batch_index, batch_dict in enumerate(batch_generator):\n",
        "        # the training routine is 5 steps:\n",
        "        # step 1. zero the gradients\n",
        "        optimizer.zero_grad()\n",
        "        # step 2. compute the output\n",
        "        y_pred = classifier(x_in=batch_dict['x_data'].float())\n",
        "        # step 3. compute the loss\n",
        "        loss = loss_func(y_pred, batch_dict['y_target'].float())\n",
        "        loss_batch = loss.item()\n",
        "        running_loss += (loss_batch-running_loss) / (batch_index + 1)\n",
        "        # step 4. use loss to produce gradients\n",
        "        loss.backward()\n",
        "        # step 5. use optimizer to take gradient step\n",
        "        optimizer.step()\n",
        "        # compute the accuracy\n",
        "        acc_batch = compute_accuracy(y_pred, batch_dict['y_target'])\n",
        "        running_acc += (acc_batch - running_acc) / (batch_index + 1)\n",
        "\n",
        "    train_state['train_loss'].append(running_loss)\n",
        "    train_state['train_acc'].append(running_acc)\n",
        "\n",
        "    # Iterate over val dataset\n",
        "    # setup: batch generator, set loss and acc to 0, set eval mode on\n",
        "    dataset.set_split('val')\n",
        "    batch_generator = generate_batches(dataset, batch_size=args.batch_size, device=args.device)\n",
        "    running_loss = 0.\n",
        "    running_acc = 0.\n",
        "    classifier.eval()\n",
        "\n",
        "    for batch_index, batch_dict in enumerate(batch_generator):\n",
        "        # step 1. compute the output\n",
        "        y_pred = classifier(x_in=batch_dict['x_data'].float())\n",
        "        # step 2. compute the loss\n",
        "        loss = loss_func(y_pred, batch_dict['y_target'].float())\n",
        "        loss_batch = loss.item()\n",
        "        running_loss += (loss_batch - running_loss) / (batch_index + 1)\n",
        "        # step 3. compute the accuracy\n",
        "        acc_batch = compute_accuracy(y_pred, batch_dict['y_target'])\n",
        "        running_acc += (acc_batch - running_acc) / (batch_index + 1)\n",
        "    train_state['val_loss'].append(running_loss)\n",
        "    train_state['val_acc'].append(running_acc)"
      ]
    },
    {
      "cell_type": "code",
      "execution_count": null,
      "id": "84dfc971",
      "metadata": {
        "id": "84dfc971"
      },
      "outputs": [],
      "source": [
        "dataset.set_split('test')\n",
        "batch_generator = generate_batches(dataset,batch_size=args.batch_size,device=args.device)\n",
        "running_loss = 0.\n",
        "running_acc = 0.\n",
        "classifier.eval()\n",
        "for batch_index, batch_dict in enumerate(batch_generator):\n",
        "    # compute the output\n",
        "    y_pred = classifier(x_in=batch_dict['x_data'].float())\n",
        "    # compute the loss\n",
        "    loss = loss_func(y_pred, batch_dict['y_target'].float())\n",
        "    loss_batch = loss.item()\n",
        "    running_loss += (loss_batch - running_loss) / (batch_index + 1)\n",
        "    # compute the accuracy\n",
        "    acc_batch = compute_accuracy(y_pred, batch_dict['y_target'])\n",
        "    running_acc += (acc_batch - running_acc) / (batch_index + 1)\n",
        "train_state['test_loss'] = running_loss\n",
        "train_state['test_acc'] = running_acc"
      ]
    },
    {
      "cell_type": "code",
      "execution_count": null,
      "id": "ba2917c2",
      "metadata": {
        "colab": {
          "base_uri": "https://localhost:8080/"
        },
        "id": "ba2917c2",
        "outputId": "19acd628-6c0b-43ed-91b0-0430206354a2"
      },
      "outputs": [
        {
          "output_type": "stream",
          "name": "stdout",
          "text": [
            "Test loss: 0.528\n",
            "Test Accuracy: 74.22\n"
          ]
        }
      ],
      "source": [
        "print(\"Test loss: {:.3f}\".format(train_state['test_loss']))\n",
        "print(\"Test Accuracy: {:.2f}\".format(train_state['test_acc']))"
      ]
    },
    {
      "cell_type": "markdown",
      "source": [
        "### The model achieved 74% accuracy in prediction."
      ],
      "metadata": {
        "id": "hsjnK7NP1H8-"
      },
      "id": "hsjnK7NP1H8-"
    },
    {
      "cell_type": "code",
      "execution_count": null,
      "id": "13bd8ce7",
      "metadata": {
        "id": "13bd8ce7"
      },
      "outputs": [],
      "source": [
        "def predict_rating(inj_narrative, classifier, vectorizer,decision_threshold=0.5):\n",
        "    \"\"\"Predict the rating of a review\n",
        "    Args:\n",
        "        inj_narrative (str): the text of the injury narrative\n",
        "        classifier (InjuryClassifier): the trained model\n",
        "        vectorizer (InjuryVectorizer): the corresponding vectorizer\n",
        "        decision_threshold (float): The numerical boundary which\n",
        "                                    separates the rating classes\n",
        "    \"\"\"\n",
        "    inj_narrative = preprocess_text(inj_narrative)\n",
        "    vectorized_narrative = torch.tensor(vectorizer.vectorize(inj_narrative)).to(args.device)\n",
        "    result = classifier(vectorized_narrative.view(1, -1))\n",
        "    probability_value = torch.sigmoid(result).item()\n",
        "    index = 1\n",
        "    if probability_value < decision_threshold:\n",
        "        index = 0\n",
        "    return vectorizer.injury_level_vocab.lookup_index(index)"
      ]
    },
    {
      "cell_type": "code",
      "execution_count": null,
      "id": "1054b4c2",
      "metadata": {
        "id": "1054b4c2"
      },
      "outputs": [],
      "source": [
        "def preprocess_text(text, flg_lemm = True,lst_stopwords = None):\n",
        "    text = ' '.join(word.lower() for word in text.split(\" \"))\n",
        "    text = re.sub(r\"([.,!?])\", r\" \\1 \", text)\n",
        "    text = re.sub(r\"[^a-zA-Z.,!?/0-9]+\", r\" \", text)\n",
        "    \n",
        "    ## Tokenize (convert from string to list)\n",
        "    lst_text = text.split()\n",
        "    \n",
        "    #lemmatize\n",
        "    if flg_lemm == True:\n",
        "        lem = nltk.stem.wordnet.WordNetLemmatizer()\n",
        "        lst_text = [lem.lemmatize(word) for word in lst_text]\n",
        "    \n",
        "    #remove stopwords\n",
        "    if lst_stopwords is not None:\n",
        "        lst_text= [word for word in lst_text if word not in \n",
        "                    lst_stopwords]\n",
        "        \n",
        "    ## back to string from list\n",
        "    text = \" \".join(lst_text)   \n",
        "    \n",
        "    return text"
      ]
    },
    {
      "cell_type": "markdown",
      "source": [
        "### Example of an correct prediction"
      ],
      "metadata": {
        "id": "O2obJ6zS0XMs"
      },
      "id": "O2obJ6zS0XMs"
    },
    {
      "cell_type": "code",
      "source": [
        "test_narrative = \"The EE was in the processof removing a tapered bushing from the seat in the base of #4 Mill. As he was tightening the bolts into the jacking holes of the bushing with an air impact wrench bushing broke causing the wrench to become vert- ically propelled. causing EE R hand to be crushed in between wrench handle & bottom of mill table.\"\n",
        "prediction = predict_rating(test_narrative, classifier, vectorizer)\n",
        "print(\"{} > {}\".format(test_narrative, prediction))"
      ],
      "metadata": {
        "colab": {
          "base_uri": "https://localhost:8080/"
        },
        "id": "062_e4_Z0VgL",
        "outputId": "bbe3a0c1-3a87-4d42-cec0-38e8c0be8d3d"
      },
      "id": "062_e4_Z0VgL",
      "execution_count": null,
      "outputs": [
        {
          "output_type": "stream",
          "name": "stdout",
          "text": [
            "The EE was in the processof removing a tapered bushing from the seat in the base of #4 Mill. As he was tightening the bolts into the jacking holes of the bushing with an air impact wrench bushing broke causing the wrench to become vert- ically propelled. causing EE R hand to be crushed in between wrench handle & bottom of mill table. > Major\n"
          ]
        }
      ]
    },
    {
      "cell_type": "markdown",
      "source": [
        "### Example of an incorrect prediction"
      ],
      "metadata": {
        "id": "hEuddJYl0NRU"
      },
      "id": "hEuddJYl0NRU"
    },
    {
      "cell_type": "code",
      "execution_count": null,
      "id": "76d2dbab",
      "metadata": {
        "colab": {
          "base_uri": "https://localhost:8080/"
        },
        "id": "76d2dbab",
        "outputId": "c71f8e51-9c5f-4da3-a9f5-64ab74d5be10"
      },
      "outputs": [
        {
          "output_type": "stream",
          "name": "stdout",
          "text": [
            "Employee had been bolting sections of duct work together for the previous couple of days.  The work required awkward postures and excessive force in awkward postures.  Employee has a history of back problems.  On this morning he was unable to get out of his truck upon arriving at the job site > Major\n"
          ]
        }
      ],
      "source": [
        "test_narrative = \"Employee had been bolting sections of duct work together for the previous couple of days.  The work required awkward postures and excessive force in awkward postures.  Employee has a history of back problems.  On this morning he was unable to get out of his truck upon arriving at the job site\"\n",
        "prediction = predict_rating(test_narrative, classifier, vectorizer)\n",
        "print(\"{} > {}\".format(test_narrative, prediction))"
      ]
    }
  ],
  "metadata": {
    "kernelspec": {
      "display_name": "Python 3",
      "language": "python",
      "name": "python3"
    },
    "language_info": {
      "codemirror_mode": {
        "name": "ipython",
        "version": 3
      },
      "file_extension": ".py",
      "mimetype": "text/x-python",
      "name": "python",
      "nbconvert_exporter": "python",
      "pygments_lexer": "ipython3",
      "version": "3.8.10"
    },
    "colab": {
      "provenance": []
    }
  },
  "nbformat": 4,
  "nbformat_minor": 5
}